{
 "cells": [
  {
   "cell_type": "markdown",
   "metadata": {},
   "source": [
    "# Library and Data Import"
   ]
  },
  {
   "cell_type": "code",
   "execution_count": 1,
   "metadata": {},
   "outputs": [],
   "source": [
    "import pandas as pd\n",
    "import numpy as np\n",
    "import seaborn as sns\n",
    "import matplotlib.pyplot as plt\n",
    "import matplotlib.patches as mpatches"
   ]
  },
  {
   "cell_type": "code",
   "execution_count": 2,
   "metadata": {},
   "outputs": [],
   "source": [
    "filename = 'Downloads/predictive_maintenance.csv'\n",
    "df = pd.read_csv(filename, index_col=None, header=0)"
   ]
  },
  {
   "cell_type": "code",
   "execution_count": 3,
   "metadata": {},
   "outputs": [
    {
     "data": {
      "text/html": [
       "<div>\n",
       "<style scoped>\n",
       "    .dataframe tbody tr th:only-of-type {\n",
       "        vertical-align: middle;\n",
       "    }\n",
       "\n",
       "    .dataframe tbody tr th {\n",
       "        vertical-align: top;\n",
       "    }\n",
       "\n",
       "    .dataframe thead th {\n",
       "        text-align: right;\n",
       "    }\n",
       "</style>\n",
       "<table border=\"1\" class=\"dataframe\">\n",
       "  <thead>\n",
       "    <tr style=\"text-align: right;\">\n",
       "      <th></th>\n",
       "      <th>UDI</th>\n",
       "      <th>Product ID</th>\n",
       "      <th>Type</th>\n",
       "      <th>Air temperature [K]</th>\n",
       "      <th>Process temperature [K]</th>\n",
       "      <th>Rotational speed [rpm]</th>\n",
       "      <th>Torque [Nm]</th>\n",
       "      <th>Tool wear [min]</th>\n",
       "      <th>Target</th>\n",
       "      <th>Failure Type</th>\n",
       "    </tr>\n",
       "  </thead>\n",
       "  <tbody>\n",
       "    <tr>\n",
       "      <th>0</th>\n",
       "      <td>1</td>\n",
       "      <td>M14860</td>\n",
       "      <td>M</td>\n",
       "      <td>298.1</td>\n",
       "      <td>308.6</td>\n",
       "      <td>1551</td>\n",
       "      <td>42.8</td>\n",
       "      <td>0</td>\n",
       "      <td>0</td>\n",
       "      <td>No Failure</td>\n",
       "    </tr>\n",
       "    <tr>\n",
       "      <th>1</th>\n",
       "      <td>2</td>\n",
       "      <td>L47181</td>\n",
       "      <td>L</td>\n",
       "      <td>298.2</td>\n",
       "      <td>308.7</td>\n",
       "      <td>1408</td>\n",
       "      <td>46.3</td>\n",
       "      <td>3</td>\n",
       "      <td>0</td>\n",
       "      <td>No Failure</td>\n",
       "    </tr>\n",
       "    <tr>\n",
       "      <th>2</th>\n",
       "      <td>3</td>\n",
       "      <td>L47182</td>\n",
       "      <td>L</td>\n",
       "      <td>298.1</td>\n",
       "      <td>308.5</td>\n",
       "      <td>1498</td>\n",
       "      <td>49.4</td>\n",
       "      <td>5</td>\n",
       "      <td>0</td>\n",
       "      <td>No Failure</td>\n",
       "    </tr>\n",
       "    <tr>\n",
       "      <th>3</th>\n",
       "      <td>4</td>\n",
       "      <td>L47183</td>\n",
       "      <td>L</td>\n",
       "      <td>298.2</td>\n",
       "      <td>308.6</td>\n",
       "      <td>1433</td>\n",
       "      <td>39.5</td>\n",
       "      <td>7</td>\n",
       "      <td>0</td>\n",
       "      <td>No Failure</td>\n",
       "    </tr>\n",
       "    <tr>\n",
       "      <th>4</th>\n",
       "      <td>5</td>\n",
       "      <td>L47184</td>\n",
       "      <td>L</td>\n",
       "      <td>298.2</td>\n",
       "      <td>308.7</td>\n",
       "      <td>1408</td>\n",
       "      <td>40.0</td>\n",
       "      <td>9</td>\n",
       "      <td>0</td>\n",
       "      <td>No Failure</td>\n",
       "    </tr>\n",
       "  </tbody>\n",
       "</table>\n",
       "</div>"
      ],
      "text/plain": [
       "   UDI Product ID Type  Air temperature [K]  Process temperature [K]  \\\n",
       "0    1     M14860    M                298.1                    308.6   \n",
       "1    2     L47181    L                298.2                    308.7   \n",
       "2    3     L47182    L                298.1                    308.5   \n",
       "3    4     L47183    L                298.2                    308.6   \n",
       "4    5     L47184    L                298.2                    308.7   \n",
       "\n",
       "   Rotational speed [rpm]  Torque [Nm]  Tool wear [min]  Target Failure Type  \n",
       "0                    1551         42.8                0       0   No Failure  \n",
       "1                    1408         46.3                3       0   No Failure  \n",
       "2                    1498         49.4                5       0   No Failure  \n",
       "3                    1433         39.5                7       0   No Failure  \n",
       "4                    1408         40.0                9       0   No Failure  "
      ]
     },
     "execution_count": 3,
     "metadata": {},
     "output_type": "execute_result"
    }
   ],
   "source": [
    "df.head()"
   ]
  },
  {
   "cell_type": "code",
   "execution_count": 5,
   "metadata": {},
   "outputs": [
    {
     "data": {
      "text/plain": [
       "array([<AxesSubplot:title={'center':'0'}>,\n",
       "       <AxesSubplot:title={'center':'1'}>], dtype=object)"
      ]
     },
     "execution_count": 5,
     "metadata": {},
     "output_type": "execute_result"
    },
    {
     "data": {
      "image/png": "[encoded data removed]",
      "text/plain": [
       "<Figure size 432x288 with 2 Axes>"
      ]
     },
     "metadata": {
      "needs_background": "light"
     },
     "output_type": "display_data"
    }
   ],
   "source": [
    "df.hist('Tool wear [min]', by='Target')"
   ]
  },
  {
   "cell_type": "code",
   "execution_count": 114,
   "metadata": {},
   "outputs": [
    {
     "data": {
      "text/plain": [
       "array([<AxesSubplot:title={'center':'0'}>,\n",
       "       <AxesSubplot:title={'center':'1'}>], dtype=object)"
      ]
     },
     "execution_count": 114,
     "metadata": {},
     "output_type": "execute_result"
    },
    {
     "data": {
      "image/png": "[encoded data removed]",
      "text/plain": [
       "<Figure size 432x288 with 2 Axes>"
      ]
     },
     "metadata": {
      "needs_background": "light"
     },
     "output_type": "display_data"
    }
   ],
   "source": [
    "df.hist('Air temperature [K]', by='Target')"
   ]
  },
  {
   "cell_type": "code",
   "execution_count": 115,
   "metadata": {},
   "outputs": [
    {
     "data": {
      "text/plain": [
       "array([<AxesSubplot:title={'center':'0'}>,\n",
       "       <AxesSubplot:title={'center':'1'}>], dtype=object)"
      ]
     },
     "execution_count": 115,
     "metadata": {},
     "output_type": "execute_result"
    },
    {
     "data": {
      "image/png": "[encoded data removed]",
      "text/plain": [
       "<Figure size 432x288 with 2 Axes>"
      ]
     },
     "metadata": {
      "needs_background": "light"
     },
     "output_type": "display_data"
    }
   ],
   "source": [
    "df.hist('Process temperature [K]', by='Target')"
   ]
  },
  {
   "cell_type": "code",
   "execution_count": 116,
   "metadata": {},
   "outputs": [
    {
     "data": {
      "text/plain": [
       "array([<AxesSubplot:title={'center':'0'}>,\n",
       "       <AxesSubplot:title={'center':'1'}>], dtype=object)"
      ]
     },
     "execution_count": 116,
     "metadata": {},
     "output_type": "execute_result"
    },
    {
     "data": {
      "image/png": "[encoded data removed]",
      "text/plain": [
       "<Figure size 432x288 with 2 Axes>"
      ]
     },
     "metadata": {
      "needs_background": "light"
     },
     "output_type": "display_data"
    }
   ],
   "source": [
    "df.hist('Rotational speed [rpm]', by='Target')"
   ]
  },
  {
   "cell_type": "code",
   "execution_count": 117,
   "metadata": {},
   "outputs": [
    {
     "data": {
      "text/plain": [
       "array([<AxesSubplot:title={'center':'0'}>,\n",
       "       <AxesSubplot:title={'center':'1'}>], dtype=object)"
      ]
     },
     "execution_count": 117,
     "metadata": {},
     "output_type": "execute_result"
    },
    {
     "data": {
      "image/png": "[encoded data removed]",
      "text/plain": [
       "<Figure size 432x288 with 2 Axes>"
      ]
     },
     "metadata": {
      "needs_background": "light"
     },
     "output_type": "display_data"
    }
   ],
   "source": [
    "df.hist('Torque [Nm]', by='Target')"
   ]
  },
  {
   "cell_type": "code",
   "execution_count": 6,
   "metadata": {},
   "outputs": [
    {
     "data": {
      "text/html": [
       "<div>\n",
       "<style scoped>\n",
       "    .dataframe tbody tr th:only-of-type {\n",
       "        vertical-align: middle;\n",
       "    }\n",
       "\n",
       "    .dataframe tbody tr th {\n",
       "        vertical-align: top;\n",
       "    }\n",
       "\n",
       "    .dataframe thead th {\n",
       "        text-align: right;\n",
       "    }\n",
       "</style>\n",
       "<table border=\"1\" class=\"dataframe\">\n",
       "  <thead>\n",
       "    <tr style=\"text-align: right;\">\n",
       "      <th></th>\n",
       "      <th>UDI</th>\n",
       "      <th>Product ID</th>\n",
       "      <th>Type</th>\n",
       "      <th>Air temperature [K]</th>\n",
       "      <th>Process temperature [K]</th>\n",
       "      <th>Rotational speed [rpm]</th>\n",
       "      <th>Torque [Nm]</th>\n",
       "      <th>Tool wear [min]</th>\n",
       "      <th>Target</th>\n",
       "      <th>Failure Type</th>\n",
       "    </tr>\n",
       "  </thead>\n",
       "  <tbody>\n",
       "    <tr>\n",
       "      <th>50</th>\n",
       "      <td>51</td>\n",
       "      <td>L47230</td>\n",
       "      <td>L</td>\n",
       "      <td>298.9</td>\n",
       "      <td>309.1</td>\n",
       "      <td>2861</td>\n",
       "      <td>4.6</td>\n",
       "      <td>143</td>\n",
       "      <td>1</td>\n",
       "      <td>Power Failure</td>\n",
       "    </tr>\n",
       "    <tr>\n",
       "      <th>69</th>\n",
       "      <td>70</td>\n",
       "      <td>L47249</td>\n",
       "      <td>L</td>\n",
       "      <td>298.9</td>\n",
       "      <td>309.0</td>\n",
       "      <td>1410</td>\n",
       "      <td>65.7</td>\n",
       "      <td>191</td>\n",
       "      <td>1</td>\n",
       "      <td>Power Failure</td>\n",
       "    </tr>\n",
       "    <tr>\n",
       "      <th>77</th>\n",
       "      <td>78</td>\n",
       "      <td>L47257</td>\n",
       "      <td>L</td>\n",
       "      <td>298.8</td>\n",
       "      <td>308.9</td>\n",
       "      <td>1455</td>\n",
       "      <td>41.3</td>\n",
       "      <td>208</td>\n",
       "      <td>1</td>\n",
       "      <td>Tool Wear Failure</td>\n",
       "    </tr>\n",
       "    <tr>\n",
       "      <th>160</th>\n",
       "      <td>161</td>\n",
       "      <td>L47340</td>\n",
       "      <td>L</td>\n",
       "      <td>298.4</td>\n",
       "      <td>308.2</td>\n",
       "      <td>1282</td>\n",
       "      <td>60.7</td>\n",
       "      <td>216</td>\n",
       "      <td>1</td>\n",
       "      <td>Overstrain Failure</td>\n",
       "    </tr>\n",
       "    <tr>\n",
       "      <th>161</th>\n",
       "      <td>162</td>\n",
       "      <td>L47341</td>\n",
       "      <td>L</td>\n",
       "      <td>298.3</td>\n",
       "      <td>308.1</td>\n",
       "      <td>1412</td>\n",
       "      <td>52.3</td>\n",
       "      <td>218</td>\n",
       "      <td>1</td>\n",
       "      <td>Overstrain Failure</td>\n",
       "    </tr>\n",
       "    <tr>\n",
       "      <th>...</th>\n",
       "      <td>...</td>\n",
       "      <td>...</td>\n",
       "      <td>...</td>\n",
       "      <td>...</td>\n",
       "      <td>...</td>\n",
       "      <td>...</td>\n",
       "      <td>...</td>\n",
       "      <td>...</td>\n",
       "      <td>...</td>\n",
       "      <td>...</td>\n",
       "    </tr>\n",
       "    <tr>\n",
       "      <th>9758</th>\n",
       "      <td>9759</td>\n",
       "      <td>L56938</td>\n",
       "      <td>L</td>\n",
       "      <td>298.6</td>\n",
       "      <td>309.8</td>\n",
       "      <td>2271</td>\n",
       "      <td>16.2</td>\n",
       "      <td>218</td>\n",
       "      <td>1</td>\n",
       "      <td>Tool Wear Failure</td>\n",
       "    </tr>\n",
       "    <tr>\n",
       "      <th>9764</th>\n",
       "      <td>9765</td>\n",
       "      <td>L56944</td>\n",
       "      <td>L</td>\n",
       "      <td>298.5</td>\n",
       "      <td>309.5</td>\n",
       "      <td>1294</td>\n",
       "      <td>66.7</td>\n",
       "      <td>12</td>\n",
       "      <td>1</td>\n",
       "      <td>Power Failure</td>\n",
       "    </tr>\n",
       "    <tr>\n",
       "      <th>9822</th>\n",
       "      <td>9823</td>\n",
       "      <td>L57002</td>\n",
       "      <td>L</td>\n",
       "      <td>298.5</td>\n",
       "      <td>309.4</td>\n",
       "      <td>1360</td>\n",
       "      <td>60.9</td>\n",
       "      <td>187</td>\n",
       "      <td>1</td>\n",
       "      <td>Overstrain Failure</td>\n",
       "    </tr>\n",
       "    <tr>\n",
       "      <th>9830</th>\n",
       "      <td>9831</td>\n",
       "      <td>L57010</td>\n",
       "      <td>L</td>\n",
       "      <td>298.3</td>\n",
       "      <td>309.3</td>\n",
       "      <td>1337</td>\n",
       "      <td>56.1</td>\n",
       "      <td>206</td>\n",
       "      <td>1</td>\n",
       "      <td>Overstrain Failure</td>\n",
       "    </tr>\n",
       "    <tr>\n",
       "      <th>9974</th>\n",
       "      <td>9975</td>\n",
       "      <td>L57154</td>\n",
       "      <td>L</td>\n",
       "      <td>298.6</td>\n",
       "      <td>308.2</td>\n",
       "      <td>1361</td>\n",
       "      <td>68.2</td>\n",
       "      <td>172</td>\n",
       "      <td>1</td>\n",
       "      <td>Power Failure</td>\n",
       "    </tr>\n",
       "  </tbody>\n",
       "</table>\n",
       "<p>339 rows × 10 columns</p>\n",
       "</div>"
      ],
      "text/plain": [
       "       UDI Product ID Type  Air temperature [K]  Process temperature [K]  \\\n",
       "50      51     L47230    L                298.9                    309.1   \n",
       "69      70     L47249    L                298.9                    309.0   \n",
       "77      78     L47257    L                298.8                    308.9   \n",
       "160    161     L47340    L                298.4                    308.2   \n",
       "161    162     L47341    L                298.3                    308.1   \n",
       "...    ...        ...  ...                  ...                      ...   \n",
       "9758  9759     L56938    L                298.6                    309.8   \n",
       "9764  9765     L56944    L                298.5                    309.5   \n",
       "9822  9823     L57002    L                298.5                    309.4   \n",
       "9830  9831     L57010    L                298.3                    309.3   \n",
       "9974  9975     L57154    L                298.6                    308.2   \n",
       "\n",
       "      Rotational speed [rpm]  Torque [Nm]  Tool wear [min]  Target  \\\n",
       "50                      2861          4.6              143       1   \n",
       "69                      1410         65.7              191       1   \n",
       "77                      1455         41.3              208       1   \n",
       "160                     1282         60.7              216       1   \n",
       "161                     1412         52.3              218       1   \n",
       "...                      ...          ...              ...     ...   \n",
       "9758                    2271         16.2              218       1   \n",
       "9764                    1294         66.7               12       1   \n",
       "9822                    1360         60.9              187       1   \n",
       "9830                    1337         56.1              206       1   \n",
       "9974                    1361         68.2              172       1   \n",
       "\n",
       "            Failure Type  \n",
       "50         Power Failure  \n",
       "69         Power Failure  \n",
       "77     Tool Wear Failure  \n",
       "160   Overstrain Failure  \n",
       "161   Overstrain Failure  \n",
       "...                  ...  \n",
       "9758   Tool Wear Failure  \n",
       "9764       Power Failure  \n",
       "9822  Overstrain Failure  \n",
       "9830  Overstrain Failure  \n",
       "9974       Power Failure  \n",
       "\n",
       "[339 rows x 10 columns]"
      ]
     },
     "execution_count": 6,
     "metadata": {},
     "output_type": "execute_result"
    }
   ],
   "source": [
    "df[df['Target']==1]"
   ]
  },
  {
   "cell_type": "code",
   "execution_count": 79,
   "metadata": {},
   "outputs": [
    {
     "data": {
      "text/plain": [
       "<AxesSubplot:>"
      ]
     },
     "execution_count": 79,
     "metadata": {},
     "output_type": "execute_result"
    },
    {
     "data": {
      "image/png": "[encoded data removed]",
      "text/plain": [
       "<Figure size 432x288 with 2 Axes>"
      ]
     },
     "metadata": {
      "needs_background": "light"
     },
     "output_type": "display_data"
    }
   ],
   "source": [
    "corr = df.select_dtypes('number').corr()\n",
    "\n",
    "# plot the heatmap\n",
    "sns.heatmap(corr)"
   ]
  },
  {
   "cell_type": "markdown",
   "metadata": {},
   "source": [
    "# Overall Survival Curve"
   ]
  },
  {
   "cell_type": "code",
   "execution_count": 7,
   "metadata": {},
   "outputs": [],
   "source": [
    "import lifelines"
   ]
  },
  {
   "cell_type": "code",
   "execution_count": 8,
   "metadata": {},
   "outputs": [
    {
     "data": {
      "image/png": "[encoded data removed]",
      "text/plain": [
       "<Figure size 432x288 with 1 Axes>"
      ]
     },
     "metadata": {
      "needs_background": "light"
     },
     "output_type": "display_data"
    }
   ],
   "source": [
    "from lifelines import KaplanMeierFitter\n",
    "\n",
    "# Instantiate a KaplanMeierFitter object kmf\n",
    "kmf = KaplanMeierFitter()\n",
    "\n",
    "# Fit the KaplanMeierFitter object to the data\n",
    "kmf.fit(durations=df['Tool wear [min]'], \n",
    "        event_observed=df['Target'])\n",
    "\n",
    "# Visualize and show the survival curve\n",
    "kmf.plot_survival_function()\n",
    "plt.show()"
   ]
  },
  {
   "cell_type": "code",
   "execution_count": 9,
   "metadata": {},
   "outputs": [
    {
     "name": "stdout",
     "output_type": "stream",
     "text": [
      "233.0\n"
     ]
    }
   ],
   "source": [
    "print(kmf.median_survival_time_)"
   ]
  },
  {
   "cell_type": "code",
   "execution_count": 13,
   "metadata": {},
   "outputs": [
    {
     "data": {
      "text/html": [
       "<div>\n",
       "<style scoped>\n",
       "    .dataframe tbody tr th:only-of-type {\n",
       "        vertical-align: middle;\n",
       "    }\n",
       "\n",
       "    .dataframe tbody tr th {\n",
       "        vertical-align: top;\n",
       "    }\n",
       "\n",
       "    .dataframe thead th {\n",
       "        text-align: right;\n",
       "    }\n",
       "</style>\n",
       "<table border=\"1\" class=\"dataframe\">\n",
       "  <thead>\n",
       "    <tr style=\"text-align: right;\">\n",
       "      <th></th>\n",
       "      <th>KM_estimate</th>\n",
       "    </tr>\n",
       "    <tr>\n",
       "      <th>timeline</th>\n",
       "      <th></th>\n",
       "    </tr>\n",
       "  </thead>\n",
       "  <tbody>\n",
       "    <tr>\n",
       "      <th>227.0</th>\n",
       "      <td>0.631610</td>\n",
       "    </tr>\n",
       "    <tr>\n",
       "      <th>228.0</th>\n",
       "      <td>0.588789</td>\n",
       "    </tr>\n",
       "    <tr>\n",
       "      <th>229.0</th>\n",
       "      <td>0.566143</td>\n",
       "    </tr>\n",
       "    <tr>\n",
       "      <th>230.0</th>\n",
       "      <td>0.566143</td>\n",
       "    </tr>\n",
       "    <tr>\n",
       "      <th>231.0</th>\n",
       "      <td>0.525704</td>\n",
       "    </tr>\n",
       "    <tr>\n",
       "      <th>232.0</th>\n",
       "      <td>0.510684</td>\n",
       "    </tr>\n",
       "    <tr>\n",
       "      <th>233.0</th>\n",
       "      <td>0.494725</td>\n",
       "    </tr>\n",
       "    <tr>\n",
       "      <th>234.0</th>\n",
       "      <td>0.437641</td>\n",
       "    </tr>\n",
       "    <tr>\n",
       "      <th>235.0</th>\n",
       "      <td>0.418614</td>\n",
       "    </tr>\n",
       "    <tr>\n",
       "      <th>236.0</th>\n",
       "      <td>0.418614</td>\n",
       "    </tr>\n",
       "    <tr>\n",
       "      <th>237.0</th>\n",
       "      <td>0.418614</td>\n",
       "    </tr>\n",
       "    <tr>\n",
       "      <th>238.0</th>\n",
       "      <td>0.393989</td>\n",
       "    </tr>\n",
       "    <tr>\n",
       "      <th>239.0</th>\n",
       "      <td>0.393989</td>\n",
       "    </tr>\n",
       "    <tr>\n",
       "      <th>240.0</th>\n",
       "      <td>0.393989</td>\n",
       "    </tr>\n",
       "    <tr>\n",
       "      <th>241.0</th>\n",
       "      <td>0.393989</td>\n",
       "    </tr>\n",
       "    <tr>\n",
       "      <th>242.0</th>\n",
       "      <td>0.393989</td>\n",
       "    </tr>\n",
       "    <tr>\n",
       "      <th>244.0</th>\n",
       "      <td>0.393989</td>\n",
       "    </tr>\n",
       "    <tr>\n",
       "      <th>246.0</th>\n",
       "      <td>0.236394</td>\n",
       "    </tr>\n",
       "    <tr>\n",
       "      <th>251.0</th>\n",
       "      <td>0.118197</td>\n",
       "    </tr>\n",
       "    <tr>\n",
       "      <th>253.0</th>\n",
       "      <td>0.000000</td>\n",
       "    </tr>\n",
       "  </tbody>\n",
       "</table>\n",
       "</div>"
      ],
      "text/plain": [
       "          KM_estimate\n",
       "timeline             \n",
       "227.0        0.631610\n",
       "228.0        0.588789\n",
       "229.0        0.566143\n",
       "230.0        0.566143\n",
       "231.0        0.525704\n",
       "232.0        0.510684\n",
       "233.0        0.494725\n",
       "234.0        0.437641\n",
       "235.0        0.418614\n",
       "236.0        0.418614\n",
       "237.0        0.418614\n",
       "238.0        0.393989\n",
       "239.0        0.393989\n",
       "240.0        0.393989\n",
       "241.0        0.393989\n",
       "242.0        0.393989\n",
       "244.0        0.393989\n",
       "246.0        0.236394\n",
       "251.0        0.118197\n",
       "253.0        0.000000"
      ]
     },
     "execution_count": 13,
     "metadata": {},
     "output_type": "execute_result"
    }
   ],
   "source": [
    "kmf.survival_function_.tail(20)"
   ]
  },
  {
   "cell_type": "markdown",
   "metadata": {},
   "source": [
    "# Survival by Type"
   ]
  },
  {
   "cell_type": "code",
   "execution_count": 18,
   "metadata": {},
   "outputs": [],
   "source": [
    "high_machine = df[df['Type'] == \"H\"]\n",
    "medium_machine = df[df['Type'] == \"M\"]\n",
    "low_machine = df[df['Type'] == \"L\"]"
   ]
  },
  {
   "cell_type": "code",
   "execution_count": 24,
   "metadata": {},
   "outputs": [
    {
     "data": {
      "image/png": "[encoded data removed]",
      "text/plain": [
       "<Figure size 432x288 with 1 Axes>"
      ]
     },
     "metadata": {
      "needs_background": "light"
     },
     "output_type": "display_data"
    }
   ],
   "source": [
    "# Instantiate a KaplanMeierFitter object kmf\n",
    "kmf = KaplanMeierFitter()\n",
    "\n",
    "# Fit kmf to high group\n",
    "kmf.fit(durations=high_machine['Tool wear [min]'], event_observed=high_machine['Target'], label='H')\n",
    "\n",
    "# Create a plot of the survival function\n",
    "surv_plot = kmf.plot_survival_function()\n",
    "\n",
    "# Fit kmf to other groups\n",
    "kmf.fit(durations=medium_machine['Tool wear [min]'], event_observed=medium_machine['Target'], label='M')\n",
    "kmf.plot_survival_function(ax=surv_plot)\n",
    "\n",
    "kmf.fit(durations=low_machine['Tool wear [min]'], event_observed=low_machine['Target'], label='L')\n",
    "kmf.plot_survival_function(ax=surv_plot)\n",
    "\n",
    "# Show plot\n",
    "plt.show()"
   ]
  },
  {
   "cell_type": "code",
   "execution_count": 23,
   "metadata": {},
   "outputs": [
    {
     "name": "stdout",
     "output_type": "stream",
     "text": [
      "The median survival duration (min) of high machines:  246.0\n",
      "The median survival duration (min) of medium machines:  234.0\n",
      "The median survival duration (min) of low machines:  231.0\n"
     ]
    }
   ],
   "source": [
    "kmf_high = KaplanMeierFitter()\n",
    "kmf_high.fit(durations=high_machine['Tool wear [min]'], event_observed=high_machine['Target'])\n",
    "print(\"The median survival duration (min) of high machines: \", kmf_high.median_survival_time_)\n",
    "\n",
    "kmf_medium = KaplanMeierFitter()\n",
    "kmf_medium.fit(durations=medium_machine['Tool wear [min]'], event_observed=medium_machine['Target'])\n",
    "print(\"The median survival duration (min) of medium machines: \", kmf_medium.median_survival_time_)\n",
    "\n",
    "kmf_low = KaplanMeierFitter()\n",
    "kmf_low.fit(durations=low_machine['Tool wear [min]'], event_observed=low_machine['Target'])\n",
    "print(\"The median survival duration (min) of low machines: \", kmf_low.median_survival_time_)"
   ]
  },
  {
   "cell_type": "markdown",
   "metadata": {},
   "source": [
    "### Hypothesis test of the similarity between types\n",
    "\n",
    "H0 : High and low machine has the same tool wear mins\n",
    "\n",
    "P-value: What's the likelihood that the data would've occurred if the null hypothesis were true?\n",
    "\n",
    "(P ≤ 0.05) >> Statistically significant test result >> means that the test hypothesis is false or should be rejected"
   ]
  },
  {
   "cell_type": "code",
   "execution_count": 27,
   "metadata": {},
   "outputs": [
    {
     "name": "stdout",
     "output_type": "stream",
     "text": [
      "0.005651291360261185\n"
     ]
    },
    {
     "data": {
      "text/plain": [
       "<bound method StatisticalResult.print_summary of <lifelines.StatisticalResult: logrank_test>\n",
       "               t_0 = -1\n",
       " null_distribution = chi squared\n",
       "degrees_of_freedom = 1\n",
       "         test_name = logrank_test\n",
       "\n",
       "---\n",
       " test_statistic    p  -log2(p)\n",
       "           7.66 0.01      7.47>"
      ]
     },
     "execution_count": 27,
     "metadata": {},
     "output_type": "execute_result"
    }
   ],
   "source": [
    "# Import logrank_test\n",
    "from lifelines.statistics import logrank_test\n",
    "\n",
    "# Run log-rank test to compare patients with and without pericardial effusion\n",
    "test_results = logrank_test(durations_A = high_machine['Tool wear [min]'],\n",
    "                               durations_B = low_machine['Tool wear [min]'],\n",
    "                               event_observed_A = high_machine['Target'],\n",
    "                               event_observed_B = low_machine['Target'])\n",
    "\n",
    "# Print out the p-value of log-rank test results\n",
    "print(test_results.p_value)\n",
    "test_results.print_summary"
   ]
  },
  {
   "cell_type": "code",
   "execution_count": 28,
   "metadata": {},
   "outputs": [
    {
     "name": "stdout",
     "output_type": "stream",
     "text": [
      "0.10462183115323558\n"
     ]
    },
    {
     "data": {
      "text/plain": [
       "<bound method StatisticalResult.print_summary of <lifelines.StatisticalResult: logrank_test>\n",
       "               t_0 = -1\n",
       " null_distribution = chi squared\n",
       "degrees_of_freedom = 1\n",
       "         test_name = logrank_test\n",
       "\n",
       "---\n",
       " test_statistic    p  -log2(p)\n",
       "           2.63 0.10      3.26>"
      ]
     },
     "execution_count": 28,
     "metadata": {},
     "output_type": "execute_result"
    }
   ],
   "source": [
    "# Import logrank_test\n",
    "from lifelines.statistics import logrank_test\n",
    "\n",
    "# Run log-rank test to compare patients with and without pericardial effusion\n",
    "test_results = logrank_test(durations_A = high_machine['Tool wear [min]'],\n",
    "                               durations_B = medium_machine['Tool wear [min]'],\n",
    "                               event_observed_A = high_machine['Target'],\n",
    "                               event_observed_B = medium_machine['Target'])\n",
    "\n",
    "# Print out the p-value of log-rank test results\n",
    "print(test_results.p_value)\n",
    "test_results.print_summary"
   ]
  },
  {
   "cell_type": "code",
   "execution_count": 29,
   "metadata": {},
   "outputs": [
    {
     "name": "stdout",
     "output_type": "stream",
     "text": [
      "0.05007462880076568\n"
     ]
    },
    {
     "data": {
      "text/plain": [
       "<bound method StatisticalResult.print_summary of <lifelines.StatisticalResult: logrank_test>\n",
       "               t_0 = -1\n",
       " null_distribution = chi squared\n",
       "degrees_of_freedom = 1\n",
       "         test_name = logrank_test\n",
       "\n",
       "---\n",
       " test_statistic    p  -log2(p)\n",
       "           3.84 0.05      4.32>"
      ]
     },
     "execution_count": 29,
     "metadata": {},
     "output_type": "execute_result"
    }
   ],
   "source": [
    "# Import logrank_test\n",
    "from lifelines.statistics import logrank_test\n",
    "\n",
    "# Run log-rank test to compare patients with and without pericardial effusion\n",
    "test_results = logrank_test(durations_A = medium_machine['Tool wear [min]'],\n",
    "                               durations_B = low_machine['Tool wear [min]'],\n",
    "                               event_observed_A = medium_machine['Target'],\n",
    "                               event_observed_B = low_machine['Target'])\n",
    "\n",
    "# Print out the p-value of log-rank test results\n",
    "print(test_results.p_value)\n",
    "test_results.print_summary"
   ]
  },
  {
   "cell_type": "markdown",
   "metadata": {},
   "source": [
    "### Conclusion by Type\n",
    "\n",
    "#### H0: High and low machine has the same tool wear mins\n",
    " - P_value = 0.00565 \n",
    " - P ≤ 0.05 >> Statistically significant test result >> High and low machine DON'T have the same tool wear mins\n",
    " \n",
    "#### H0: High and medium machine has the same tool wear mins\n",
    " - P_value = 0.104\n",
    " - P > 0.05 >> Not statistically significant test result >> Cannot reject \"High and medium machine has the same tool wear mins\"\n",
    " \n",
    "#### H0: Medium and low machine has the same tool wear mins\n",
    " - P_value = 0.05\n",
    " - P ≤ 0.05 >> Statistically significant test result >> Medium and low machine DON'T have the same tool wear mins"
   ]
  },
  {
   "cell_type": "markdown",
   "metadata": {},
   "source": [
    "# Weibull Fitter\n",
    "Weibull distribution: the failure/event rate is proportional to a power of time."
   ]
  },
  {
   "cell_type": "code",
   "execution_count": 62,
   "metadata": {},
   "outputs": [
    {
     "data": {
      "text/plain": [
       "UDI                        9880\n",
       "Product ID                 9880\n",
       "Type                       9880\n",
       "Air temperature [K]        9880\n",
       "Process temperature [K]    9880\n",
       "Rotational speed [rpm]     9880\n",
       "Torque [Nm]                9880\n",
       "Tool wear [min]            9880\n",
       "Target                     9880\n",
       "Failure Type               9880\n",
       "dtype: int64"
      ]
     },
     "execution_count": 62,
     "metadata": {},
     "output_type": "execute_result"
    }
   ],
   "source": [
    "df_new = df[df['Tool wear [min]'] > 0]\n",
    "df_new.count()"
   ]
  },
  {
   "cell_type": "code",
   "execution_count": 66,
   "metadata": {},
   "outputs": [
    {
     "data": {
      "image/png": "[encoded data removed]",
      "text/plain": [
       "<Figure size 432x288 with 1 Axes>"
      ]
     },
     "metadata": {
      "needs_background": "light"
     },
     "output_type": "display_data"
    }
   ],
   "source": [
    "# Import WeibullFitter class\n",
    "from lifelines import WeibullFitter\n",
    "\n",
    "# Instantiate WeibullFitter class wb\n",
    "wb = WeibullFitter()\n",
    "\n",
    "# Fit data to wb\n",
    "wb.fit(df_new['Tool wear [min]'], df_new['Target'])\n",
    "\n",
    "# Plot survival function\n",
    "wb.survival_function_.plot()\n",
    "plt.show()"
   ]
  },
  {
   "cell_type": "code",
   "execution_count": 67,
   "metadata": {},
   "outputs": [
    {
     "data": {
      "text/html": [
       "<div>\n",
       "<style scoped>\n",
       "    .dataframe tbody tr th:only-of-type {\n",
       "        vertical-align: middle;\n",
       "    }\n",
       "\n",
       "    .dataframe tbody tr th {\n",
       "        vertical-align: top;\n",
       "    }\n",
       "\n",
       "    .dataframe thead th {\n",
       "        text-align: right;\n",
       "    }\n",
       "</style>\n",
       "<table border=\"1\" class=\"dataframe\">\n",
       "  <thead>\n",
       "    <tr style=\"text-align: right;\">\n",
       "      <th></th>\n",
       "      <th>coef</th>\n",
       "      <th>se(coef)</th>\n",
       "      <th>coef lower 95%</th>\n",
       "      <th>coef upper 95%</th>\n",
       "      <th>cmp to</th>\n",
       "      <th>z</th>\n",
       "      <th>p</th>\n",
       "      <th>-log2(p)</th>\n",
       "    </tr>\n",
       "  </thead>\n",
       "  <tbody>\n",
       "    <tr>\n",
       "      <th>lambda_</th>\n",
       "      <td>487.516436</td>\n",
       "      <td>25.244929</td>\n",
       "      <td>438.037285</td>\n",
       "      <td>536.995588</td>\n",
       "      <td>1.0</td>\n",
       "      <td>19.271848</td>\n",
       "      <td>9.257062e-83</td>\n",
       "      <td>272.509478</td>\n",
       "    </tr>\n",
       "    <tr>\n",
       "      <th>rho_</th>\n",
       "      <td>2.612034</td>\n",
       "      <td>0.114838</td>\n",
       "      <td>2.386955</td>\n",
       "      <td>2.837112</td>\n",
       "      <td>1.0</td>\n",
       "      <td>14.037452</td>\n",
       "      <td>9.196011e-45</td>\n",
       "      <td>146.285756</td>\n",
       "    </tr>\n",
       "  </tbody>\n",
       "</table>\n",
       "</div>"
      ],
      "text/plain": [
       "               coef   se(coef)  coef lower 95%  coef upper 95%  cmp to  \\\n",
       "lambda_  487.516436  25.244929      438.037285      536.995588     1.0   \n",
       "rho_       2.612034   0.114838        2.386955        2.837112     1.0   \n",
       "\n",
       "                 z             p    -log2(p)  \n",
       "lambda_  19.271848  9.257062e-83  272.509478  \n",
       "rho_     14.037452  9.196011e-45  146.285756  "
      ]
     },
     "execution_count": 67,
     "metadata": {},
     "output_type": "execute_result"
    }
   ],
   "source": [
    "wb.summary"
   ]
  },
  {
   "cell_type": "markdown",
   "metadata": {},
   "source": [
    "k (or ρ): determines the shape\n",
    "- k=2.6 (k > 1) the failure/event rate increases over time.\n",
    "\n",
    "λ: determines the scale (indicates when 63.2% of the population has experienced the event)"
   ]
  },
  {
   "cell_type": "code",
   "execution_count": 72,
   "metadata": {},
   "outputs": [
    {
     "data": {
      "text/plain": [
       "0.9550270632261244"
      ]
     },
     "execution_count": 72,
     "metadata": {},
     "output_type": "execute_result"
    }
   ],
   "source": [
    "# Predicting likelihood of survival\n",
    "wb.predict(150)"
   ]
  },
  {
   "cell_type": "code",
   "execution_count": 73,
   "metadata": {},
   "outputs": [],
   "source": [
    "df_new = df_new.drop(columns=['UDI','Product ID','Type','Failure Type'])"
   ]
  },
  {
   "cell_type": "code",
   "execution_count": 74,
   "metadata": {},
   "outputs": [
    {
     "data": {
      "text/html": [
       "<div>\n",
       "<style scoped>\n",
       "    .dataframe tbody tr th:only-of-type {\n",
       "        vertical-align: middle;\n",
       "    }\n",
       "\n",
       "    .dataframe tbody tr th {\n",
       "        vertical-align: top;\n",
       "    }\n",
       "\n",
       "    .dataframe thead th {\n",
       "        text-align: right;\n",
       "    }\n",
       "</style>\n",
       "<table border=\"1\" class=\"dataframe\">\n",
       "  <thead>\n",
       "    <tr style=\"text-align: right;\">\n",
       "      <th></th>\n",
       "      <th>Air temperature [K]</th>\n",
       "      <th>Process temperature [K]</th>\n",
       "      <th>Rotational speed [rpm]</th>\n",
       "      <th>Torque [Nm]</th>\n",
       "      <th>Tool wear [min]</th>\n",
       "      <th>Target</th>\n",
       "    </tr>\n",
       "  </thead>\n",
       "  <tbody>\n",
       "    <tr>\n",
       "      <th>1</th>\n",
       "      <td>298.2</td>\n",
       "      <td>308.7</td>\n",
       "      <td>1408</td>\n",
       "      <td>46.3</td>\n",
       "      <td>3</td>\n",
       "      <td>0</td>\n",
       "    </tr>\n",
       "    <tr>\n",
       "      <th>2</th>\n",
       "      <td>298.1</td>\n",
       "      <td>308.5</td>\n",
       "      <td>1498</td>\n",
       "      <td>49.4</td>\n",
       "      <td>5</td>\n",
       "      <td>0</td>\n",
       "    </tr>\n",
       "    <tr>\n",
       "      <th>3</th>\n",
       "      <td>298.2</td>\n",
       "      <td>308.6</td>\n",
       "      <td>1433</td>\n",
       "      <td>39.5</td>\n",
       "      <td>7</td>\n",
       "      <td>0</td>\n",
       "    </tr>\n",
       "    <tr>\n",
       "      <th>4</th>\n",
       "      <td>298.2</td>\n",
       "      <td>308.7</td>\n",
       "      <td>1408</td>\n",
       "      <td>40.0</td>\n",
       "      <td>9</td>\n",
       "      <td>0</td>\n",
       "    </tr>\n",
       "    <tr>\n",
       "      <th>5</th>\n",
       "      <td>298.1</td>\n",
       "      <td>308.6</td>\n",
       "      <td>1425</td>\n",
       "      <td>41.9</td>\n",
       "      <td>11</td>\n",
       "      <td>0</td>\n",
       "    </tr>\n",
       "    <tr>\n",
       "      <th>...</th>\n",
       "      <td>...</td>\n",
       "      <td>...</td>\n",
       "      <td>...</td>\n",
       "      <td>...</td>\n",
       "      <td>...</td>\n",
       "      <td>...</td>\n",
       "    </tr>\n",
       "    <tr>\n",
       "      <th>9995</th>\n",
       "      <td>298.8</td>\n",
       "      <td>308.4</td>\n",
       "      <td>1604</td>\n",
       "      <td>29.5</td>\n",
       "      <td>14</td>\n",
       "      <td>0</td>\n",
       "    </tr>\n",
       "    <tr>\n",
       "      <th>9996</th>\n",
       "      <td>298.9</td>\n",
       "      <td>308.4</td>\n",
       "      <td>1632</td>\n",
       "      <td>31.8</td>\n",
       "      <td>17</td>\n",
       "      <td>0</td>\n",
       "    </tr>\n",
       "    <tr>\n",
       "      <th>9997</th>\n",
       "      <td>299.0</td>\n",
       "      <td>308.6</td>\n",
       "      <td>1645</td>\n",
       "      <td>33.4</td>\n",
       "      <td>22</td>\n",
       "      <td>0</td>\n",
       "    </tr>\n",
       "    <tr>\n",
       "      <th>9998</th>\n",
       "      <td>299.0</td>\n",
       "      <td>308.7</td>\n",
       "      <td>1408</td>\n",
       "      <td>48.5</td>\n",
       "      <td>25</td>\n",
       "      <td>0</td>\n",
       "    </tr>\n",
       "    <tr>\n",
       "      <th>9999</th>\n",
       "      <td>299.0</td>\n",
       "      <td>308.7</td>\n",
       "      <td>1500</td>\n",
       "      <td>40.2</td>\n",
       "      <td>30</td>\n",
       "      <td>0</td>\n",
       "    </tr>\n",
       "  </tbody>\n",
       "</table>\n",
       "<p>9880 rows × 6 columns</p>\n",
       "</div>"
      ],
      "text/plain": [
       "      Air temperature [K]  Process temperature [K]  Rotational speed [rpm]  \\\n",
       "1                   298.2                    308.7                    1408   \n",
       "2                   298.1                    308.5                    1498   \n",
       "3                   298.2                    308.6                    1433   \n",
       "4                   298.2                    308.7                    1408   \n",
       "5                   298.1                    308.6                    1425   \n",
       "...                   ...                      ...                     ...   \n",
       "9995                298.8                    308.4                    1604   \n",
       "9996                298.9                    308.4                    1632   \n",
       "9997                299.0                    308.6                    1645   \n",
       "9998                299.0                    308.7                    1408   \n",
       "9999                299.0                    308.7                    1500   \n",
       "\n",
       "      Torque [Nm]  Tool wear [min]  Target  \n",
       "1            46.3                3       0  \n",
       "2            49.4                5       0  \n",
       "3            39.5                7       0  \n",
       "4            40.0                9       0  \n",
       "5            41.9               11       0  \n",
       "...           ...              ...     ...  \n",
       "9995         29.5               14       0  \n",
       "9996         31.8               17       0  \n",
       "9997         33.4               22       0  \n",
       "9998         48.5               25       0  \n",
       "9999         40.2               30       0  \n",
       "\n",
       "[9880 rows x 6 columns]"
      ]
     },
     "execution_count": 74,
     "metadata": {},
     "output_type": "execute_result"
    }
   ],
   "source": [
    "df_new"
   ]
  },
  {
   "cell_type": "code",
   "execution_count": 76,
   "metadata": {},
   "outputs": [
    {
     "data": {
      "text/html": [
       "<div>\n",
       "<style scoped>\n",
       "    .dataframe tbody tr th:only-of-type {\n",
       "        vertical-align: middle;\n",
       "    }\n",
       "\n",
       "    .dataframe tbody tr th {\n",
       "        vertical-align: top;\n",
       "    }\n",
       "\n",
       "    .dataframe thead th {\n",
       "        text-align: right;\n",
       "    }\n",
       "</style>\n",
       "<table border=\"1\" class=\"dataframe\">\n",
       "  <thead>\n",
       "    <tr style=\"text-align: right;\">\n",
       "      <th></th>\n",
       "      <th></th>\n",
       "      <th>coef</th>\n",
       "      <th>exp(coef)</th>\n",
       "      <th>se(coef)</th>\n",
       "      <th>coef lower 95%</th>\n",
       "      <th>coef upper 95%</th>\n",
       "      <th>exp(coef) lower 95%</th>\n",
       "      <th>exp(coef) upper 95%</th>\n",
       "      <th>cmp to</th>\n",
       "      <th>z</th>\n",
       "      <th>p</th>\n",
       "      <th>-log2(p)</th>\n",
       "    </tr>\n",
       "    <tr>\n",
       "      <th>param</th>\n",
       "      <th>covariate</th>\n",
       "      <th></th>\n",
       "      <th></th>\n",
       "      <th></th>\n",
       "      <th></th>\n",
       "      <th></th>\n",
       "      <th></th>\n",
       "      <th></th>\n",
       "      <th></th>\n",
       "      <th></th>\n",
       "      <th></th>\n",
       "      <th></th>\n",
       "    </tr>\n",
       "  </thead>\n",
       "  <tbody>\n",
       "    <tr>\n",
       "      <th rowspan=\"5\" valign=\"top\">lambda_</th>\n",
       "      <th>Air temperature [K]</th>\n",
       "      <td>-0.218010</td>\n",
       "      <td>8.041173e-01</td>\n",
       "      <td>0.024523</td>\n",
       "      <td>-0.266073</td>\n",
       "      <td>-0.169947</td>\n",
       "      <td>0.766383</td>\n",
       "      <td>8.437096e-01</td>\n",
       "      <td>0.0</td>\n",
       "      <td>-8.890210</td>\n",
       "      <td>6.099343e-19</td>\n",
       "      <td>60.507980</td>\n",
       "    </tr>\n",
       "    <tr>\n",
       "      <th>Process temperature [K]</th>\n",
       "      <td>0.204934</td>\n",
       "      <td>1.227443e+00</td>\n",
       "      <td>0.032041</td>\n",
       "      <td>0.142134</td>\n",
       "      <td>0.267733</td>\n",
       "      <td>1.152732</td>\n",
       "      <td>1.306998e+00</td>\n",
       "      <td>0.0</td>\n",
       "      <td>6.395985</td>\n",
       "      <td>1.595158e-10</td>\n",
       "      <td>32.545581</td>\n",
       "    </tr>\n",
       "    <tr>\n",
       "      <th>Rotational speed [rpm]</th>\n",
       "      <td>-0.003152</td>\n",
       "      <td>9.968528e-01</td>\n",
       "      <td>0.000190</td>\n",
       "      <td>-0.003525</td>\n",
       "      <td>-0.002779</td>\n",
       "      <td>0.996481</td>\n",
       "      <td>9.972247e-01</td>\n",
       "      <td>0.0</td>\n",
       "      <td>-16.561043</td>\n",
       "      <td>1.332631e-61</td>\n",
       "      <td>202.223336</td>\n",
       "    </tr>\n",
       "    <tr>\n",
       "      <th>Torque [Nm]</th>\n",
       "      <td>-0.076822</td>\n",
       "      <td>9.260551e-01</td>\n",
       "      <td>0.004305</td>\n",
       "      <td>-0.085259</td>\n",
       "      <td>-0.068384</td>\n",
       "      <td>0.918274</td>\n",
       "      <td>9.339018e-01</td>\n",
       "      <td>0.0</td>\n",
       "      <td>-17.844865</td>\n",
       "      <td>3.168673e-71</td>\n",
       "      <td>234.193016</td>\n",
       "    </tr>\n",
       "    <tr>\n",
       "      <th>Intercept</th>\n",
       "      <td>16.323034</td>\n",
       "      <td>1.227449e+07</td>\n",
       "      <td>4.908651</td>\n",
       "      <td>6.702255</td>\n",
       "      <td>25.943812</td>\n",
       "      <td>814.239970</td>\n",
       "      <td>1.850352e+11</td>\n",
       "      <td>0.0</td>\n",
       "      <td>3.325361</td>\n",
       "      <td>8.830424e-04</td>\n",
       "      <td>10.145230</td>\n",
       "    </tr>\n",
       "    <tr>\n",
       "      <th>rho_</th>\n",
       "      <th>Intercept</th>\n",
       "      <td>0.964676</td>\n",
       "      <td>2.623939e+00</td>\n",
       "      <td>0.043568</td>\n",
       "      <td>0.879285</td>\n",
       "      <td>1.050067</td>\n",
       "      <td>2.409178</td>\n",
       "      <td>2.857844e+00</td>\n",
       "      <td>0.0</td>\n",
       "      <td>22.142039</td>\n",
       "      <td>1.244769e-108</td>\n",
       "      <td>358.452356</td>\n",
       "    </tr>\n",
       "  </tbody>\n",
       "</table>\n",
       "</div>"
      ],
      "text/plain": [
       "                                      coef     exp(coef)  se(coef)  \\\n",
       "param   covariate                                                    \n",
       "lambda_ Air temperature [K]      -0.218010  8.041173e-01  0.024523   \n",
       "        Process temperature [K]   0.204934  1.227443e+00  0.032041   \n",
       "        Rotational speed [rpm]   -0.003152  9.968528e-01  0.000190   \n",
       "        Torque [Nm]              -0.076822  9.260551e-01  0.004305   \n",
       "        Intercept                16.323034  1.227449e+07  4.908651   \n",
       "rho_    Intercept                 0.964676  2.623939e+00  0.043568   \n",
       "\n",
       "                                 coef lower 95%  coef upper 95%  \\\n",
       "param   covariate                                                 \n",
       "lambda_ Air temperature [K]           -0.266073       -0.169947   \n",
       "        Process temperature [K]        0.142134        0.267733   \n",
       "        Rotational speed [rpm]        -0.003525       -0.002779   \n",
       "        Torque [Nm]                   -0.085259       -0.068384   \n",
       "        Intercept                      6.702255       25.943812   \n",
       "rho_    Intercept                      0.879285        1.050067   \n",
       "\n",
       "                                 exp(coef) lower 95%  exp(coef) upper 95%  \\\n",
       "param   covariate                                                           \n",
       "lambda_ Air temperature [K]                 0.766383         8.437096e-01   \n",
       "        Process temperature [K]             1.152732         1.306998e+00   \n",
       "        Rotational speed [rpm]              0.996481         9.972247e-01   \n",
       "        Torque [Nm]                         0.918274         9.339018e-01   \n",
       "        Intercept                         814.239970         1.850352e+11   \n",
       "rho_    Intercept                           2.409178         2.857844e+00   \n",
       "\n",
       "                                 cmp to          z              p    -log2(p)  \n",
       "param   covariate                                                              \n",
       "lambda_ Air temperature [K]         0.0  -8.890210   6.099343e-19   60.507980  \n",
       "        Process temperature [K]     0.0   6.395985   1.595158e-10   32.545581  \n",
       "        Rotational speed [rpm]      0.0 -16.561043   1.332631e-61  202.223336  \n",
       "        Torque [Nm]                 0.0 -17.844865   3.168673e-71  234.193016  \n",
       "        Intercept                   0.0   3.325361   8.830424e-04   10.145230  \n",
       "rho_    Intercept                   0.0  22.142039  1.244769e-108  358.452356  "
      ]
     },
     "execution_count": 76,
     "metadata": {},
     "output_type": "execute_result"
    }
   ],
   "source": [
    "# Import WeibullAFTFitter and instantiate\n",
    "from lifelines import WeibullAFTFitter\n",
    "aft = WeibullAFTFitter()\n",
    "\n",
    "# Fit heart_patients data into aft\n",
    "aft.fit(df_new, ='Tool wear [min]', event_col='Target')\n",
    "\n",
    "# Print the summary\n",
    "aft.summary"
   ]
  },
  {
   "cell_type": "code",
   "execution_count": 77,
   "metadata": {},
   "outputs": [
    {
     "name": "stdout",
     "output_type": "stream",
     "text": [
      "When Rotational speed [rpm] increases by 1, the average survival duration changes by a factor of  0.9968527610959518\n"
     ]
    }
   ],
   "source": [
    "# Calculate the exponential of EPSS coefficient\n",
    "exp_rotation = np.exp(aft.params_.loc['lambda_'].loc['Rotational speed [rpm]'])\n",
    "print('When Rotational speed [rpm] increases by 1, the average survival duration changes by a factor of ', exp_rotation)"
   ]
  },
  {
   "cell_type": "code",
   "execution_count": 78,
   "metadata": {},
   "outputs": [
    {
     "name": "stdout",
     "output_type": "stream",
     "text": [
      "When Air temperature [K] increases by 1, the average survival duration changes by a factor of  0.8041172500631943\n",
      "When Process temperature [K] increases by 1, the average survival duration changes by a factor of  1.2274434876930636\n",
      "When Torque [Nm] increases by 1, the average survival duration changes by a factor of  0.9260550968920914\n"
     ]
    }
   ],
   "source": [
    "print('When Air temperature [K] increases by 1, the average survival duration changes by a factor of ', \n",
    "      np.exp(aft.params_.loc['lambda_'].loc['Air temperature [K]']))\n",
    "\n",
    "print('When Process temperature [K] increases by 1, the average survival duration changes by a factor of ', \n",
    "      np.exp(aft.params_.loc['lambda_'].loc['Process temperature [K]']))\n",
    "\n",
    "print('When Torque [Nm] increases by 1, the average survival duration changes by a factor of ', \n",
    "      np.exp(aft.params_.loc['lambda_'].loc['Torque [Nm]']))"
   ]
  },
  {
   "cell_type": "code",
   "execution_count": 90,
   "metadata": {},
   "outputs": [
    {
     "data": {
      "image/png": "[encoded data removed]",
      "text/plain": [
       "<Figure size 432x288 with 1 Axes>"
      ]
     },
     "metadata": {
      "needs_background": "light"
     },
     "output_type": "display_data"
    }
   ],
   "source": [
    "aft.plot_partial_effects_on_outcome(covariates='Process temperature [K]', values=np.arange(301, 310, 1))\n",
    "plt.show()"
   ]
  },
  {
   "cell_type": "markdown",
   "metadata": {},
   "source": [
    "# Model Quality"
   ]
  },
  {
   "cell_type": "code",
   "execution_count": 80,
   "metadata": {},
   "outputs": [
    {
     "data": {
      "image/png": "[encoded data removed]",
      "text/plain": [
       "<Figure size 432x288 with 1 Axes>"
      ]
     },
     "metadata": {
      "needs_background": "light"
     },
     "output_type": "display_data"
    }
   ],
   "source": [
    "# Import qq_plot\n",
    "from lifelines.plotting import qq_plot\n",
    "\n",
    "# Plot qq_plot of wb\n",
    "qq_plot(wb)\n",
    "\n",
    "# Display figure\n",
    "plt.show()"
   ]
  },
  {
   "cell_type": "markdown",
   "metadata": {},
   "source": [
    "AIC: An estimator of prediction error and relative quality of statistical models for a given\n",
    "set of data.\n",
    "\n",
    "Estimates the relative amount of information lost by a given model and penalizes large\n",
    "number of estimated parameters.\n",
    "The less information a model loses, the higher the quality of that model.\n",
    "The fewer parameters (less complex) a model is, the higher the quality of that model.\n",
    "Given a set of candidate models for the data, the one with the minimum AIC value is the\n",
    "preferred model."
   ]
  },
  {
   "cell_type": "code",
   "execution_count": 96,
   "metadata": {},
   "outputs": [
    {
     "name": "stdout",
     "output_type": "stream",
     "text": [
      "WeibullFitter 5772.275397820752\n",
      "ExponentialFitter 6100.337257025771\n",
      "LogNormalFitter 5944.620878648259\n",
      "LogLogisticFitter 5789.288791697798\n",
      "GeneralizedGammaFitter 5755.778512444061\n"
     ]
    }
   ],
   "source": [
    "from lifelines import WeibullFitter\n",
    "from lifelines import ExponentialFitter\n",
    "from lifelines import LogNormalFitter\n",
    "from lifelines import LogLogisticFitter\n",
    "from lifelines import GeneralizedGammaFitter\n",
    "\n",
    "# Instantiate each fitter\n",
    "wb = WeibullFitter()\n",
    "exp = ExponentialFitter()\n",
    "log = LogNormalFitter()\n",
    "logl = LogLogisticFitter()\n",
    "gamma = GeneralizedGammaFitter()\n",
    "\n",
    "# Fit to data\n",
    "for model in [wb, exp, log, logl, gamma]:\n",
    "    model.fit(df_new['Tool wear [min]'],df_new['Target'])\n",
    "# Print AIC\n",
    "    print(model.__class__.__name__, model.AIC_)"
   ]
  },
  {
   "cell_type": "code",
   "execution_count": 102,
   "metadata": {},
   "outputs": [
    {
     "name": "stdout",
     "output_type": "stream",
     "text": [
      "<lifelines.PiecewiseExponentialFitter:\"PiecewiseExponentialFitter: 3 breakpoint\", fitted with 9880 total observations, 9544 right-censored observations>\n"
     ]
    },
    {
     "data": {
      "text/plain": [
       "<AxesSubplot:>"
      ]
     },
     "execution_count": 102,
     "metadata": {},
     "output_type": "execute_result"
    },
    {
     "data": {
      "image/png": "[encoded data removed]",
      "text/plain": [
       "<Figure size 432x288 with 1 Axes>"
      ]
     },
     "metadata": {
      "needs_background": "light"
     },
     "output_type": "display_data"
    }
   ],
   "source": [
    "from lifelines.utils import find_best_parametric_model\n",
    "\n",
    "T = df_new['Tool wear [min]']\n",
    "E = df_new['Target']\n",
    "\n",
    "best_model, best_aic_ = find_best_parametric_model(T, E, scoring_method=\"AIC\")\n",
    "\n",
    "print(best_model)\n",
    "\n",
    "best_model.plot_hazard()"
   ]
  },
  {
   "cell_type": "code",
   "execution_count": 108,
   "metadata": {},
   "outputs": [
    {
     "name": "stderr",
     "output_type": "stream",
     "text": [
      "/opt/anaconda3/lib/python3.8/site-packages/lifelines/fitters/__init__.py:1024: StatisticalWarning: The diagonal of the variance_matrix_ has negative values or NaNs. This could be a problem with PiecewiseExponentialFitter's fit to the data.\n",
      "\n",
      "It's advisable to not trust the variances reported, and to be suspicious of the fitted parameters too. Perform plots of the cumulative hazard to help understand the latter's bias.\n",
      "\n",
      "To fix this, try specifying an `initial_point` kwarg in `fit`.\n",
      "\n",
      "  warnings.warn(warning_text, exceptions.StatisticalWarning)\n"
     ]
    },
    {
     "data": {
      "text/plain": [
       "5537.827719508132"
      ]
     },
     "execution_count": 108,
     "metadata": {},
     "output_type": "execute_result"
    }
   ],
   "source": [
    "from lifelines import PiecewiseExponentialFitter\n",
    "\n",
    "piece = PiecewiseExponentialFitter(breakpoints=[150, 210, 250])\n",
    "piece.fit(df_new['Tool wear [min]'],df_new['Target'])\n",
    "\n",
    "piece.AIC_"
   ]
  },
  {
   "cell_type": "code",
   "execution_count": 110,
   "metadata": {},
   "outputs": [
    {
     "data": {
      "image/png": "[encoded data removed]",
      "text/plain": [
       "<Figure size 432x288 with 1 Axes>"
      ]
     },
     "metadata": {
      "needs_background": "light"
     },
     "output_type": "display_data"
    }
   ],
   "source": [
    "from lifelines.plotting import qq_plot\n",
    "for model in [WeibullFitter(),LogNormalFitter(),LogLogisticFitter(),ExponentialFitter()]:\n",
    "    model.fit(df_new['Tool wear [min]'],df_new['Target'])\n",
    "    qq_plot(model, label = model.__class__.__name__)\n",
    "plt.show()"
   ]
  },
  {
   "cell_type": "markdown",
   "metadata": {},
   "source": [
    "# CoxPH Fitter\n",
    "\n",
    "The proportional hazards assumption: all individuals' hazards are proportional to one another."
   ]
  },
  {
   "cell_type": "code",
   "execution_count": 112,
   "metadata": {},
   "outputs": [
    {
     "data": {
      "text/html": [
       "<div>\n",
       "<style scoped>\n",
       "    .dataframe tbody tr th:only-of-type {\n",
       "        vertical-align: middle;\n",
       "    }\n",
       "\n",
       "    .dataframe tbody tr th {\n",
       "        vertical-align: top;\n",
       "    }\n",
       "\n",
       "    .dataframe thead th {\n",
       "        text-align: right;\n",
       "    }\n",
       "</style>\n",
       "<table border=\"1\" class=\"dataframe\">\n",
       "  <thead>\n",
       "    <tr style=\"text-align: right;\">\n",
       "      <th></th>\n",
       "      <th>coef</th>\n",
       "      <th>exp(coef)</th>\n",
       "      <th>se(coef)</th>\n",
       "      <th>coef lower 95%</th>\n",
       "      <th>coef upper 95%</th>\n",
       "      <th>exp(coef) lower 95%</th>\n",
       "      <th>exp(coef) upper 95%</th>\n",
       "      <th>cmp to</th>\n",
       "      <th>z</th>\n",
       "      <th>p</th>\n",
       "      <th>-log2(p)</th>\n",
       "    </tr>\n",
       "    <tr>\n",
       "      <th>covariate</th>\n",
       "      <th></th>\n",
       "      <th></th>\n",
       "      <th></th>\n",
       "      <th></th>\n",
       "      <th></th>\n",
       "      <th></th>\n",
       "      <th></th>\n",
       "      <th></th>\n",
       "      <th></th>\n",
       "      <th></th>\n",
       "      <th></th>\n",
       "    </tr>\n",
       "  </thead>\n",
       "  <tbody>\n",
       "    <tr>\n",
       "      <th>Air temperature [K]</th>\n",
       "      <td>0.510276</td>\n",
       "      <td>1.665751</td>\n",
       "      <td>0.057579</td>\n",
       "      <td>0.397423</td>\n",
       "      <td>0.623129</td>\n",
       "      <td>1.487985</td>\n",
       "      <td>1.864753</td>\n",
       "      <td>0.0</td>\n",
       "      <td>8.862176</td>\n",
       "      <td>7.846762e-19</td>\n",
       "      <td>60.144536</td>\n",
       "    </tr>\n",
       "    <tr>\n",
       "      <th>Process temperature [K]</th>\n",
       "      <td>-0.529046</td>\n",
       "      <td>0.589167</td>\n",
       "      <td>0.077005</td>\n",
       "      <td>-0.679973</td>\n",
       "      <td>-0.378120</td>\n",
       "      <td>0.506631</td>\n",
       "      <td>0.685148</td>\n",
       "      <td>0.0</td>\n",
       "      <td>-6.870315</td>\n",
       "      <td>6.406042e-12</td>\n",
       "      <td>37.183704</td>\n",
       "    </tr>\n",
       "    <tr>\n",
       "      <th>Rotational speed [rpm]</th>\n",
       "      <td>0.007997</td>\n",
       "      <td>1.008029</td>\n",
       "      <td>0.000341</td>\n",
       "      <td>0.007329</td>\n",
       "      <td>0.008665</td>\n",
       "      <td>1.007356</td>\n",
       "      <td>1.008703</td>\n",
       "      <td>0.0</td>\n",
       "      <td>23.456754</td>\n",
       "      <td>1.127932e-121</td>\n",
       "      <td>401.779620</td>\n",
       "    </tr>\n",
       "    <tr>\n",
       "      <th>Torque [Nm]</th>\n",
       "      <td>0.198302</td>\n",
       "      <td>1.219331</td>\n",
       "      <td>0.007228</td>\n",
       "      <td>0.184135</td>\n",
       "      <td>0.212469</td>\n",
       "      <td>1.202179</td>\n",
       "      <td>1.236728</td>\n",
       "      <td>0.0</td>\n",
       "      <td>27.435068</td>\n",
       "      <td>1.047197e-165</td>\n",
       "      <td>548.051603</td>\n",
       "    </tr>\n",
       "  </tbody>\n",
       "</table>\n",
       "</div>"
      ],
      "text/plain": [
       "                             coef  exp(coef)  se(coef)  coef lower 95%  \\\n",
       "covariate                                                                \n",
       "Air temperature [K]      0.510276   1.665751  0.057579        0.397423   \n",
       "Process temperature [K] -0.529046   0.589167  0.077005       -0.679973   \n",
       "Rotational speed [rpm]   0.007997   1.008029  0.000341        0.007329   \n",
       "Torque [Nm]              0.198302   1.219331  0.007228        0.184135   \n",
       "\n",
       "                         coef upper 95%  exp(coef) lower 95%  \\\n",
       "covariate                                                      \n",
       "Air temperature [K]            0.623129             1.487985   \n",
       "Process temperature [K]       -0.378120             0.506631   \n",
       "Rotational speed [rpm]         0.008665             1.007356   \n",
       "Torque [Nm]                    0.212469             1.202179   \n",
       "\n",
       "                         exp(coef) upper 95%  cmp to          z  \\\n",
       "covariate                                                         \n",
       "Air temperature [K]                 1.864753     0.0   8.862176   \n",
       "Process temperature [K]             0.685148     0.0  -6.870315   \n",
       "Rotational speed [rpm]              1.008703     0.0  23.456754   \n",
       "Torque [Nm]                         1.236728     0.0  27.435068   \n",
       "\n",
       "                                     p    -log2(p)  \n",
       "covariate                                           \n",
       "Air temperature [K]       7.846762e-19   60.144536  \n",
       "Process temperature [K]   6.406042e-12   37.183704  \n",
       "Rotational speed [rpm]   1.127932e-121  401.779620  \n",
       "Torque [Nm]              1.047197e-165  548.051603  "
      ]
     },
     "execution_count": 112,
     "metadata": {},
     "output_type": "execute_result"
    }
   ],
   "source": [
    "# Import CoxPHFitter class\n",
    "from lifelines import CoxPHFitter\n",
    "\n",
    "# Instantiate CoxPHFitter class cph\n",
    "cph = CoxPHFitter()\n",
    "\n",
    "# Fit cph to data\n",
    "cph.fit(df=df_new, duration_col=\"Tool wear [min]\", event_col=\"Target\")\n",
    "\n",
    "# Print model summary\n",
    "cph.summary"
   ]
  },
  {
   "cell_type": "markdown",
   "metadata": {},
   "source": [
    "A one unit increase in \"Rotational speed [rpm]\" from its median value -> the hazards change by the a\n",
    "factor of e[0.007] = 1.008, which is a 0.8% increase compared to the baseline hazards."
   ]
  },
  {
   "cell_type": "markdown",
   "metadata": {},
   "source": [
    "#### The baseline hazards\n",
    "\n",
    "Hazard ratio: how much hazard increases or decreases relative to baseline hazards.\n",
    "\n",
    "Baseline hazards: the risk for individuals at the baseline levels of covariates.\n",
    "- Baseline ≠ setting covariates to 0\n",
    "- Baseline means setting covariates to their averages (median for lifelines )"
   ]
  },
  {
   "cell_type": "markdown",
   "metadata": {},
   "source": [
    "Hazard ratio: e , how much hazard changes relative to the average individual when covariates change.\n",
    "\n",
    "- Rotational speed [rpm] coef = 0.007997\n",
    "- Hazard ratio e[x] = 1.008029 = 1.008029\n",
    "- Hazards interpretation e[x] − 1 = 1.008029-1 = 0.008029 >> 0.8% increase in hazards\n",
    "- Survival time interpretation 1/e[x] - 1 = 1/1.008029 - 1 = -0.0079650 = 0.79% decrease in survival time"
   ]
  },
  {
   "cell_type": "markdown",
   "metadata": {},
   "source": [
    "Hazard ratio: e , how much hazard changes relative to the average individual when covariates change.\n",
    "- Air temperature [K] coef = 0.510276\n",
    "- Hazard ratio e[x] = 1.665751\n",
    "- Hazards interpretation e[x] − 1 = 1.665751-1 = 0.665751 >> 66.5% increase in hazards\n",
    "- Survival time interpretation 1/e[x] - 1 = 1/1.665751 - 1 = -0.3996701 = 39.96% decrease in survival time"
   ]
  },
  {
   "cell_type": "code",
   "execution_count": null,
   "metadata": {},
   "outputs": [],
   "source": []
  }
 ],
 "metadata": {
  "kernelspec": {
   "display_name": "Python 3",
   "language": "python",
   "name": "python3"
  },
  "language_info": {
   "codemirror_mode": {
    "name": "ipython",
    "version": 3
   },
   "file_extension": ".py",
   "mimetype": "text/x-python",
   "name": "python",
   "nbconvert_exporter": "python",
   "pygments_lexer": "ipython3",
   "version": "3.8.5"
  }
 },
 "nbformat": 4,
 "nbformat_minor": 4
}
